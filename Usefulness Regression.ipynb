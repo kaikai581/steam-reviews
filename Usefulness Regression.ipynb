{
 "cells": [
  {
   "cell_type": "markdown",
   "metadata": {},
   "source": [
    "# Usefulness Regression for Steam Reviews"
   ]
  },
  {
   "cell_type": "markdown",
   "metadata": {},
   "source": [
    "An interesting dataset is [available](https://github.com/mulhod/steam_reviews/tree/master/data) on GitHub scraped by the author from the Steam website. As a senior gamer on Steam, I make decisions to purchase games through reading the reviews that are voted useful by the players. If we can show more potentially useful reviews that recommend the game before they accumulate sufficient usefulness votes, we can show those reviews preferentially early and can potentially boost a game's sale. Therefore, I would like to build a regression model from the scraped data including the user's and the review's characteristics to estimate the usefulness rate of a review."
   ]
  },
  {
   "cell_type": "markdown",
   "metadata": {},
   "source": [
    "First of all, define a data class to load the data from the json files and define two feature selection methods to filter variables of low importance. One method calculates the mutual information between a feature and the target variable, the usefulness rate. Mutual information between two variables is a well-performing metric measuring how related the two variables are. The other method checks the Pearson correlation coefficients between the independent feature pairs. For feature pairs with high correlation coefficient, remove one of them with a lower mutual information score to reduce redundant features."
   ]
  },
  {
   "cell_type": "markdown",
   "metadata": {},
   "source": [
    "### Preliminary Feature Selection"
   ]
  },
  {
   "cell_type": "markdown",
   "metadata": {},
   "source": [
    "First, import libraries that are going to be used. Note that I am utilizing the YellowBrick library for easy visualization."
   ]
  },
  {
   "cell_type": "code",
   "execution_count": 1,
   "metadata": {},
   "outputs": [
    {
     "name": "stderr",
     "output_type": "stream",
     "text": [
      "/Users/sklin/anaconda3/envs/data-science/lib/python3.7/site-packages/sklearn/utils/deprecation.py:144: FutureWarning: The sklearn.metrics.classification module is  deprecated in version 0.22 and will be removed in version 0.24. The corresponding classes / functions should instead be imported from sklearn.metrics. Anything that cannot be imported from sklearn.metrics is now part of the private API.\n",
      "  warnings.warn(message, FutureWarning)\n"
     ]
    }
   ],
   "source": [
    "from pathlib import Path\n",
    "from yellowbrick.features import Rank2D\n",
    "from yellowbrick.target import FeatureCorrelation\n",
    "import matplotlib.pyplot as plt\n",
    "import numpy as np\n",
    "import pandas as pd"
   ]
  },
  {
   "cell_type": "markdown",
   "metadata": {},
   "source": [
    "Define two helper functions to help preprocess the data columns."
   ]
  },
  {
   "cell_type": "code",
   "execution_count": 2,
   "metadata": {},
   "outputs": [],
   "source": [
    "def word_count(rev_str):\n",
    "    return len(rev_str.split())\n",
    "\n",
    "def split_achievements(ach_str):\n",
    "    ach_perc = ach_str['num_achievements_percentage']\n",
    "    ach_att = ach_str['num_achievements_attained']\n",
    "    ach_poss = ach_str['num_achievements_possible']\n",
    "    return ach_perc, ach_att, ach_poss"
   ]
  },
  {
   "cell_type": "markdown",
   "metadata": {},
   "source": [
    "Now, define the data class which adds a word count column and separates the three achievement columns properly. For this simple analysis I will only extract the word count variable from the reviews. Also defined are the two feature selection methods."
   ]
  },
  {
   "cell_type": "code",
   "execution_count": 3,
   "metadata": {},
   "outputs": [],
   "source": [
    "class GameReviews:\n",
    "    \"\"\"\n",
    "    Class for importing data from json files,\n",
    "    augment data with some preprocessing,\n",
    "    identify numerical fields, and select features\n",
    "    according to correlation between features\n",
    "    and mutual information between a feature and the target value.\n",
    "    \"\"\"\n",
    "    def __init__(self, data_path):\n",
    "        self.rawdf = pd.read_json(data_path, lines=True)\n",
    "        self.rawdf.insert(0, 'title', Path(data_path).stem)\n",
    "        # Adding some more fields to the raw table\n",
    "        self.rawdf['review_word_count'] = self.rawdf['review'].map(word_count)\n",
    "        self.rawdf['num_achievements_percentage'], self.rawdf['num_achievements_attained'], self.rawdf['num_achievements_possible'] = zip(*self.rawdf['achievement_progress'].map(split_achievements))\n",
    "        # For simplicity, replace missing values with 0.\n",
    "        self.rawdf = self.rawdf.fillna(0)\n",
    "        # To have a meaningful helpfulness score, at least some amount of total votes is required.\n",
    "        self.rawdf = self.rawdf[self.rawdf['num_voted_helpfulness'] >= 4]\n",
    "        self.vis_mi = None\n",
    "        self.vis_cc = None\n",
    "\n",
    "    def numeric_features(self):\n",
    "        return self.rawdf.select_dtypes(include=np.number).columns.tolist()\n",
    "\n",
    "    def mutual_info(self):\n",
    "        if self.vis_mi is None:\n",
    "            y = self.rawdf['found_helpful_percentage'].copy()\n",
    "            features = self.numeric_features()\n",
    "            features.remove('found_helpful_percentage')\n",
    "            X = self.rawdf[features].copy()\n",
    "            visualizer = FeatureCorrelation(method='mutual_info-regression')\n",
    "            visualizer.fit(X, y)\n",
    "            plt.subplots_adjust(left=0.3)\n",
    "            self.vis_mi = visualizer\n",
    "        return self.vis_mi\n",
    "\n",
    "    def corr_coeff(self):\n",
    "        if self.vis_cc is None:\n",
    "            y = self.rawdf['found_helpful_percentage'].copy()\n",
    "            features = self.numeric_features()\n",
    "            features.remove('found_helpful_percentage')\n",
    "            X = self.rawdf[features].copy()\n",
    "            visualizer = Rank2D(algorithm='pearson')\n",
    "            visualizer.fit(X, y)\n",
    "            visualizer.transform(X)\n",
    "            plt.subplots_adjust(left=0.25, bottom=0.45)\n",
    "            self.vis_cc = visualizer\n",
    "        return self.vis_cc\n",
    "\n",
    "    def select_features(self, corr_thr = 0.5, mi_thr = 0.05):\n",
    "        \"\"\"\n",
    "        This method identifies colinear feature pairs and removes the one\n",
    "        in each pair that has a lower mutual information score.\n",
    "        Then it removes features with low mutual information scores.\n",
    "        \"\"\"\n",
    "        vis_mi = self.mutual_info()\n",
    "        vis_cc = self.corr_coeff()\n",
    "        selected_features = vis_cc.features_.tolist().copy()\n",
    "        hc_idx = np.argwhere(vis_cc.ranks_ > corr_thr)\n",
    "        hc_idx = hc_idx[hc_idx[:, 0] < hc_idx[:, 1]]\n",
    "\n",
    "        for row in hc_idx:\n",
    "            feature1 = vis_cc.features_[row[0]]\n",
    "            feature2 = vis_cc.features_[row[1]]\n",
    "            idx1 = vis_mi.features_.tolist().index(feature1)\n",
    "            idx2 = vis_mi.features_.tolist().index(feature2)\n",
    "            remove_feature = feature1\n",
    "            if vis_mi.scores_[idx2] < vis_mi.scores_[idx1]:\n",
    "                remove_feature = feature2\n",
    "            if remove_feature in selected_features:\n",
    "                selected_features.remove(remove_feature)\n",
    "        # Remove all features with helpful as substring\n",
    "        for f in selected_features:\n",
    "            if 'helpful' in f:\n",
    "                selected_features.remove(f)\n",
    "        # Remove features with too small mutual information\n",
    "        for f in selected_features:\n",
    "            if vis_mi.scores_[vis_mi.features_.tolist().index(f)] < mi_thr:\n",
    "                selected_features.remove(f)\n",
    "        return selected_features"
   ]
  },
  {
   "cell_type": "markdown",
   "metadata": {},
   "source": [
    "Let's build a model using the dataset with the most reviews, the GTA V dataset. First we load the data into a class instance and show the first several records."
   ]
  },
  {
   "cell_type": "code",
   "execution_count": 4,
   "metadata": {},
   "outputs": [],
   "source": [
    "gta5_revs = GameReviews('./data/Grand_Theft_Auto_V.jsonlines')\n",
    "pd.set_option('display.max_columns', None)"
   ]
  },
  {
   "cell_type": "code",
   "execution_count": 5,
   "metadata": {},
   "outputs": [
    {
     "data": {
      "text/html": [
       "<div>\n",
       "<style scoped>\n",
       "    .dataframe tbody tr th:only-of-type {\n",
       "        vertical-align: middle;\n",
       "    }\n",
       "\n",
       "    .dataframe tbody tr th {\n",
       "        vertical-align: top;\n",
       "    }\n",
       "\n",
       "    .dataframe thead th {\n",
       "        text-align: right;\n",
       "    }\n",
       "</style>\n",
       "<table border=\"1\" class=\"dataframe\">\n",
       "  <thead>\n",
       "    <tr style=\"text-align: right;\">\n",
       "      <th></th>\n",
       "      <th>title</th>\n",
       "      <th>num_found_funny</th>\n",
       "      <th>review_url</th>\n",
       "      <th>num_guides</th>\n",
       "      <th>total_game_hours</th>\n",
       "      <th>num_workshop_items</th>\n",
       "      <th>num_found_unhelpful</th>\n",
       "      <th>steam_id_number</th>\n",
       "      <th>username</th>\n",
       "      <th>num_found_helpful</th>\n",
       "      <th>total_game_hours_last_two_weeks</th>\n",
       "      <th>date_posted</th>\n",
       "      <th>num_comments</th>\n",
       "      <th>profile_url</th>\n",
       "      <th>rating</th>\n",
       "      <th>num_reviews</th>\n",
       "      <th>orig_url</th>\n",
       "      <th>num_groups</th>\n",
       "      <th>num_games_owned</th>\n",
       "      <th>friend_player_level</th>\n",
       "      <th>date_updated</th>\n",
       "      <th>found_helpful_percentage</th>\n",
       "      <th>num_screenshots</th>\n",
       "      <th>review</th>\n",
       "      <th>achievement_progress</th>\n",
       "      <th>num_voted_helpfulness</th>\n",
       "      <th>num_badges</th>\n",
       "      <th>num_friends</th>\n",
       "      <th>review_word_count</th>\n",
       "      <th>num_achievements_percentage</th>\n",
       "      <th>num_achievements_attained</th>\n",
       "      <th>num_achievements_possible</th>\n",
       "    </tr>\n",
       "  </thead>\n",
       "  <tbody>\n",
       "    <tr>\n",
       "      <th>0</th>\n",
       "      <td>Grand_Theft_Auto_V</td>\n",
       "      <td>5</td>\n",
       "      <td>http://steamcommunity.com/profiles/76561198010...</td>\n",
       "      <td>0</td>\n",
       "      <td>116.0</td>\n",
       "      <td>0</td>\n",
       "      <td>161</td>\n",
       "      <td>76561198010454100</td>\n",
       "      <td>God</td>\n",
       "      <td>1199</td>\n",
       "      <td>6.2</td>\n",
       "      <td>May 31, 2015, 7:33AM</td>\n",
       "      <td>8</td>\n",
       "      <td>http://steamcommunity.com/profiles/76561198010...</td>\n",
       "      <td>Not Recommended</td>\n",
       "      <td>1</td>\n",
       "      <td>http://steamcommunity.com/app/271590/homeconte...</td>\n",
       "      <td>0.0</td>\n",
       "      <td>42</td>\n",
       "      <td>5.0</td>\n",
       "      <td>0</td>\n",
       "      <td>0.881618</td>\n",
       "      <td>0</td>\n",
       "      <td>Well, hackers got to the point where they use ...</td>\n",
       "      <td>{'num_achievements_possible': 60, 'num_achieve...</td>\n",
       "      <td>1360</td>\n",
       "      <td>2.0</td>\n",
       "      <td>11.0</td>\n",
       "      <td>73</td>\n",
       "      <td>0.200000</td>\n",
       "      <td>12</td>\n",
       "      <td>60</td>\n",
       "    </tr>\n",
       "    <tr>\n",
       "      <th>1</th>\n",
       "      <td>Grand_Theft_Auto_V</td>\n",
       "      <td>6</td>\n",
       "      <td>http://steamcommunity.com/profiles/76561197984...</td>\n",
       "      <td>0</td>\n",
       "      <td>187.0</td>\n",
       "      <td>0</td>\n",
       "      <td>163</td>\n",
       "      <td>76561197984446047</td>\n",
       "      <td>tri_nitric</td>\n",
       "      <td>1210</td>\n",
       "      <td>3.9</td>\n",
       "      <td>May 31, 2015, 2:59PM</td>\n",
       "      <td>12</td>\n",
       "      <td>http://steamcommunity.com/profiles/76561197984...</td>\n",
       "      <td>Not Recommended</td>\n",
       "      <td>1</td>\n",
       "      <td>http://steamcommunity.com/app/271590/homeconte...</td>\n",
       "      <td>4.0</td>\n",
       "      <td>170</td>\n",
       "      <td>41.0</td>\n",
       "      <td>0</td>\n",
       "      <td>0.881282</td>\n",
       "      <td>86</td>\n",
       "      <td>Hackers, thats all i have to say. Nothing is b...</td>\n",
       "      <td>{'num_achievements_possible': 2, 'num_achievem...</td>\n",
       "      <td>1373</td>\n",
       "      <td>28.0</td>\n",
       "      <td>92.0</td>\n",
       "      <td>25</td>\n",
       "      <td>0.500000</td>\n",
       "      <td>1</td>\n",
       "      <td>2</td>\n",
       "    </tr>\n",
       "    <tr>\n",
       "      <th>2</th>\n",
       "      <td>Grand_Theft_Auto_V</td>\n",
       "      <td>0</td>\n",
       "      <td>http://steamcommunity.com/id/calvero/recommend...</td>\n",
       "      <td>0</td>\n",
       "      <td>96.9</td>\n",
       "      <td>0</td>\n",
       "      <td>1165</td>\n",
       "      <td>calvero</td>\n",
       "      <td>calvero</td>\n",
       "      <td>7034</td>\n",
       "      <td>0.0</td>\n",
       "      <td>Jun 11, 2015, 10:05AM</td>\n",
       "      <td>63</td>\n",
       "      <td>http://steamcommunity.com/id/calvero</td>\n",
       "      <td>Not Recommended</td>\n",
       "      <td>1</td>\n",
       "      <td>http://steamcommunity.com/app/271590/homeconte...</td>\n",
       "      <td>2.0</td>\n",
       "      <td>49</td>\n",
       "      <td>21.0</td>\n",
       "      <td>Jun 11, 2015, 10:17AM</td>\n",
       "      <td>0.857910</td>\n",
       "      <td>7</td>\n",
       "      <td>Garbage always-online \"periodic entitlement ve...</td>\n",
       "      <td>{'num_achievements_possible': 88, 'num_achieve...</td>\n",
       "      <td>8199</td>\n",
       "      <td>18.0</td>\n",
       "      <td>41.0</td>\n",
       "      <td>34</td>\n",
       "      <td>0.522727</td>\n",
       "      <td>46</td>\n",
       "      <td>88</td>\n",
       "    </tr>\n",
       "    <tr>\n",
       "      <th>3</th>\n",
       "      <td>Grand_Theft_Auto_V</td>\n",
       "      <td>1</td>\n",
       "      <td>http://steamcommunity.com/id/BetterThanYourWai...</td>\n",
       "      <td>1</td>\n",
       "      <td>14.3</td>\n",
       "      <td>0</td>\n",
       "      <td>1458</td>\n",
       "      <td>BetterThanYourWaifu</td>\n",
       "      <td>Utage</td>\n",
       "      <td>8740</td>\n",
       "      <td>0.0</td>\n",
       "      <td>Jun 11, 2015, 11:49AM</td>\n",
       "      <td>156</td>\n",
       "      <td>http://steamcommunity.com/id/BetterThanYourWaifu</td>\n",
       "      <td>Not Recommended</td>\n",
       "      <td>5</td>\n",
       "      <td>http://steamcommunity.com/app/271590/homeconte...</td>\n",
       "      <td>6.0</td>\n",
       "      <td>140</td>\n",
       "      <td>68.0</td>\n",
       "      <td>Jun 18, 2015, 2:08PM</td>\n",
       "      <td>0.857031</td>\n",
       "      <td>122</td>\n",
       "      <td>Game itself is good, but Rockstar is using a p...</td>\n",
       "      <td>{'num_achievements_possible': 16, 'num_achieve...</td>\n",
       "      <td>10198</td>\n",
       "      <td>74.0</td>\n",
       "      <td>52.0</td>\n",
       "      <td>97</td>\n",
       "      <td>0.250000</td>\n",
       "      <td>4</td>\n",
       "      <td>16</td>\n",
       "    </tr>\n",
       "    <tr>\n",
       "      <th>4</th>\n",
       "      <td>Grand_Theft_Auto_V</td>\n",
       "      <td>1</td>\n",
       "      <td>http://steamcommunity.com/id/courierncr/recomm...</td>\n",
       "      <td>0</td>\n",
       "      <td>185.0</td>\n",
       "      <td>0</td>\n",
       "      <td>144</td>\n",
       "      <td>courierncr</td>\n",
       "      <td>Courier</td>\n",
       "      <td>1073</td>\n",
       "      <td>22.2</td>\n",
       "      <td>May 29, 2015, 5:16PM</td>\n",
       "      <td>5</td>\n",
       "      <td>http://steamcommunity.com/id/courierncr</td>\n",
       "      <td>Not Recommended</td>\n",
       "      <td>0</td>\n",
       "      <td>http://steamcommunity.com/app/271590/homeconte...</td>\n",
       "      <td>0.0</td>\n",
       "      <td>0</td>\n",
       "      <td>0.0</td>\n",
       "      <td>May 30, 2015, 4:13PM</td>\n",
       "      <td>0.881676</td>\n",
       "      <td>0</td>\n",
       "      <td>Long story short. For people who love GTA and ...</td>\n",
       "      <td>{'num_achievements_possible': None, 'num_achie...</td>\n",
       "      <td>1217</td>\n",
       "      <td>0.0</td>\n",
       "      <td>0.0</td>\n",
       "      <td>148</td>\n",
       "      <td>0.000000</td>\n",
       "      <td>0</td>\n",
       "      <td>0</td>\n",
       "    </tr>\n",
       "  </tbody>\n",
       "</table>\n",
       "</div>"
      ],
      "text/plain": [
       "                title  num_found_funny  \\\n",
       "0  Grand_Theft_Auto_V                5   \n",
       "1  Grand_Theft_Auto_V                6   \n",
       "2  Grand_Theft_Auto_V                0   \n",
       "3  Grand_Theft_Auto_V                1   \n",
       "4  Grand_Theft_Auto_V                1   \n",
       "\n",
       "                                          review_url  num_guides  \\\n",
       "0  http://steamcommunity.com/profiles/76561198010...           0   \n",
       "1  http://steamcommunity.com/profiles/76561197984...           0   \n",
       "2  http://steamcommunity.com/id/calvero/recommend...           0   \n",
       "3  http://steamcommunity.com/id/BetterThanYourWai...           1   \n",
       "4  http://steamcommunity.com/id/courierncr/recomm...           0   \n",
       "\n",
       "   total_game_hours  num_workshop_items  num_found_unhelpful  \\\n",
       "0             116.0                   0                  161   \n",
       "1             187.0                   0                  163   \n",
       "2              96.9                   0                 1165   \n",
       "3              14.3                   0                 1458   \n",
       "4             185.0                   0                  144   \n",
       "\n",
       "       steam_id_number    username  num_found_helpful  \\\n",
       "0    76561198010454100         God               1199   \n",
       "1    76561197984446047  tri_nitric               1210   \n",
       "2              calvero     calvero               7034   \n",
       "3  BetterThanYourWaifu       Utage               8740   \n",
       "4           courierncr     Courier               1073   \n",
       "\n",
       "   total_game_hours_last_two_weeks            date_posted  num_comments  \\\n",
       "0                              6.2   May 31, 2015, 7:33AM             8   \n",
       "1                              3.9   May 31, 2015, 2:59PM            12   \n",
       "2                              0.0  Jun 11, 2015, 10:05AM            63   \n",
       "3                              0.0  Jun 11, 2015, 11:49AM           156   \n",
       "4                             22.2   May 29, 2015, 5:16PM             5   \n",
       "\n",
       "                                         profile_url           rating  \\\n",
       "0  http://steamcommunity.com/profiles/76561198010...  Not Recommended   \n",
       "1  http://steamcommunity.com/profiles/76561197984...  Not Recommended   \n",
       "2               http://steamcommunity.com/id/calvero  Not Recommended   \n",
       "3   http://steamcommunity.com/id/BetterThanYourWaifu  Not Recommended   \n",
       "4            http://steamcommunity.com/id/courierncr  Not Recommended   \n",
       "\n",
       "   num_reviews                                           orig_url  num_groups  \\\n",
       "0            1  http://steamcommunity.com/app/271590/homeconte...         0.0   \n",
       "1            1  http://steamcommunity.com/app/271590/homeconte...         4.0   \n",
       "2            1  http://steamcommunity.com/app/271590/homeconte...         2.0   \n",
       "3            5  http://steamcommunity.com/app/271590/homeconte...         6.0   \n",
       "4            0  http://steamcommunity.com/app/271590/homeconte...         0.0   \n",
       "\n",
       "   num_games_owned  friend_player_level           date_updated  \\\n",
       "0               42                  5.0                      0   \n",
       "1              170                 41.0                      0   \n",
       "2               49                 21.0  Jun 11, 2015, 10:17AM   \n",
       "3              140                 68.0   Jun 18, 2015, 2:08PM   \n",
       "4                0                  0.0   May 30, 2015, 4:13PM   \n",
       "\n",
       "   found_helpful_percentage  num_screenshots  \\\n",
       "0                  0.881618                0   \n",
       "1                  0.881282               86   \n",
       "2                  0.857910                7   \n",
       "3                  0.857031              122   \n",
       "4                  0.881676                0   \n",
       "\n",
       "                                              review  \\\n",
       "0  Well, hackers got to the point where they use ...   \n",
       "1  Hackers, thats all i have to say. Nothing is b...   \n",
       "2  Garbage always-online \"periodic entitlement ve...   \n",
       "3  Game itself is good, but Rockstar is using a p...   \n",
       "4  Long story short. For people who love GTA and ...   \n",
       "\n",
       "                                achievement_progress  num_voted_helpfulness  \\\n",
       "0  {'num_achievements_possible': 60, 'num_achieve...                   1360   \n",
       "1  {'num_achievements_possible': 2, 'num_achievem...                   1373   \n",
       "2  {'num_achievements_possible': 88, 'num_achieve...                   8199   \n",
       "3  {'num_achievements_possible': 16, 'num_achieve...                  10198   \n",
       "4  {'num_achievements_possible': None, 'num_achie...                   1217   \n",
       "\n",
       "   num_badges  num_friends  review_word_count  num_achievements_percentage  \\\n",
       "0         2.0         11.0                 73                     0.200000   \n",
       "1        28.0         92.0                 25                     0.500000   \n",
       "2        18.0         41.0                 34                     0.522727   \n",
       "3        74.0         52.0                 97                     0.250000   \n",
       "4         0.0          0.0                148                     0.000000   \n",
       "\n",
       "   num_achievements_attained  num_achievements_possible  \n",
       "0                         12                         60  \n",
       "1                          1                          2  \n",
       "2                         46                         88  \n",
       "3                          4                         16  \n",
       "4                          0                          0  "
      ]
     },
     "execution_count": 5,
     "metadata": {},
     "output_type": "execute_result"
    }
   ],
   "source": [
    "gta5_revs.rawdf.head()"
   ]
  },
  {
   "cell_type": "markdown",
   "metadata": {},
   "source": [
    "Let's show the mutual information and the Pearson correlation coefficient with YellowBrick's visualizer."
   ]
  },
  {
   "cell_type": "code",
   "execution_count": 6,
   "metadata": {},
   "outputs": [
    {
     "name": "stderr",
     "output_type": "stream",
     "text": [
      "/Users/sklin/anaconda3/envs/data-science/lib/python3.7/site-packages/sklearn/base.py:197: FutureWarning: From version 0.24, get_params will raise an AttributeError if a parameter cannot be retrieved as an instance attribute. Previously it would return None.\n",
      "  FutureWarning)\n"
     ]
    },
    {
     "data": {
      "image/png": "[encoded data removed]",
      "text/plain": [
       "<Figure size 576x396 with 1 Axes>"
      ]
     },
     "metadata": {},
     "output_type": "display_data"
    },
    {
     "data": {
      "text/plain": [
       "<matplotlib.axes._subplots.AxesSubplot at 0x1c1c234a90>"
      ]
     },
     "execution_count": 6,
     "metadata": {},
     "output_type": "execute_result"
    }
   ],
   "source": [
    "viz_mutual_info = gta5_revs.mutual_info()\n",
    "viz_mutual_info.show()"
   ]
  },
  {
   "cell_type": "markdown",
   "metadata": {},
   "source": [
    "In the above plot I will simply ignore the three features with largest mutual information. Indeed, they are directly used for calculating the target variable, and in my model, they are not known beforehand."
   ]
  },
  {
   "cell_type": "code",
   "execution_count": 7,
   "metadata": {
    "scrolled": false
   },
   "outputs": [
    {
     "name": "stderr",
     "output_type": "stream",
     "text": [
      "/Users/sklin/anaconda3/envs/data-science/lib/python3.7/site-packages/yellowbrick/features/rankd.py:216: YellowbrickWarning: RankD plots may be clipped when using matplotlib v3.1.1, upgrade to matplotlib v3.1.2 or later to fix the plots.\n",
      "  warnings.warn(msg, YellowbrickWarning)\n"
     ]
    },
    {
     "data": {
      "image/png": "[encoded data removed]",
      "text/plain": [
       "<Figure size 576x396 with 2 Axes>"
      ]
     },
     "metadata": {},
     "output_type": "display_data"
    },
    {
     "data": {
      "text/plain": [
       "<matplotlib.axes._subplots.AxesSubplot at 0x1c1c27a990>"
      ]
     },
     "execution_count": 7,
     "metadata": {},
     "output_type": "execute_result"
    }
   ],
   "source": [
    "viz_corr_coeff = gta5_revs.corr_coeff()\n",
    "viz_corr_coeff.show()"
   ]
  },
  {
   "cell_type": "markdown",
   "metadata": {},
   "source": [
    "We can now select the features entering our model. Note that there is some randomness involved in calculating the mutual information for real-valued features. Therefore, the selected features might change from run to run. In the future, I will assign a random_state in sklearn's sklearn.feature_selection.mutual_info_regression function."
   ]
  },
  {
   "cell_type": "code",
   "execution_count": 8,
   "metadata": {},
   "outputs": [
    {
     "name": "stdout",
     "output_type": "stream",
     "text": [
      "['num_found_funny', 'num_guides', 'total_game_hours', 'num_reviews', 'num_groups', 'num_games_owned', 'num_screenshots', 'num_badges', 'num_friends', 'review_word_count', 'num_achievements_percentage']\n"
     ]
    }
   ],
   "source": [
    "selected_features = gta5_revs.select_features(corr_thr = 0.6)\n",
    "print(selected_features)"
   ]
  },
  {
   "cell_type": "markdown",
   "metadata": {},
   "source": [
    "Prepare train and test datasets. Since I plan to use metric-based algorithms, standardization of independent variables is recommended so that the constructed estimators are not dominated by only a few features. Besides, this is a first look. Therefore, both train and test samples are scaled for simplicity."
   ]
  },
  {
   "cell_type": "code",
   "execution_count": 9,
   "metadata": {},
   "outputs": [
    {
     "name": "stdout",
     "output_type": "stream",
     "text": [
      "(4421, 11)\n",
      "(1106, 11)\n",
      "(4421,)\n",
      "(1106,)\n"
     ]
    }
   ],
   "source": [
    "from sklearn import preprocessing\n",
    "from sklearn.model_selection import train_test_split\n",
    "X = gta5_revs.rawdf[selected_features].copy()\n",
    "X = preprocessing.scale(X)\n",
    "y = gta5_revs.rawdf['found_helpful_percentage'].copy()\n",
    "validation_size = 0.2\n",
    "seed = 7\n",
    "X_train, X_test, y_train, y_test = train_test_split(X, y, test_size=validation_size, random_state=seed)\n",
    "print(X_train.shape)\n",
    "print(X_test.shape)\n",
    "print(y_train.shape)\n",
    "print(y_test.shape)"
   ]
  },
  {
   "cell_type": "markdown",
   "metadata": {},
   "source": [
    "Let's take a look at the distribution of the target variable. Those peak structures might be due to scroes with low votes. In any case, wheather a model with about 10 variables can fit the data is still to be seen."
   ]
  },
  {
   "cell_type": "code",
   "execution_count": 10,
   "metadata": {},
   "outputs": [
    {
     "data": {
      "text/plain": [
       "<matplotlib.axes._subplots.AxesSubplot at 0x107a36610>"
      ]
     },
     "execution_count": 10,
     "metadata": {},
     "output_type": "execute_result"
    },
    {
     "data": {
      "image/png": "[encoded data removed]",
      "text/plain": [
       "<Figure size 576x396 with 1 Axes>"
      ]
     },
     "metadata": {},
     "output_type": "display_data"
    }
   ],
   "source": [
    "y.plot(kind='hist')"
   ]
  },
  {
   "cell_type": "markdown",
   "metadata": {},
   "source": [
    "### Simple Model Comparison\n"
   ]
  },
  {
   "cell_type": "markdown",
   "metadata": {},
   "source": [
    "I am going to compare two models. One is the metric-based algorithm, the Support Vector Machine. For the other one, I will choose random forest, which does not depend on the distances between data points. Support Vector Machine belongs to a class of methods called kernel methods, which are known to produce very smooth estimators. On the contrary, tree-based algorithms such as random forest partition the feature space into hypercubes, sometimes leading to jagged estimation.\n",
    "Below I will use 10-fold cross validation for model scores. I will compare performance of the two algorithms with default settings. Hyperparameter optimization will be left for future study."
   ]
  },
  {
   "cell_type": "code",
   "execution_count": 11,
   "metadata": {},
   "outputs": [
    {
     "name": "stdout",
     "output_type": "stream",
     "text": [
      "SVR -0.191627 0.007240 \n",
      "RFR -0.170570 0.007298 \n"
     ]
    }
   ],
   "source": [
    "# Choosing random forest regression as my tree-based method.\n",
    "from sklearn.ensemble import RandomForestRegressor\n",
    "from sklearn.model_selection import cross_val_score\n",
    "from sklearn.model_selection import KFold\n",
    "from sklearn.svm import SVR\n",
    "\n",
    "num_folds = 10\n",
    "seed = 7\n",
    "# Use absolute error as the score to avoid outliers.\n",
    "scoring = 'neg_mean_absolute_error'\n",
    "models = []\n",
    "models.append(('SVR', SVR()))\n",
    "models.append(('RFR', RandomForestRegressor()))\n",
    "\n",
    "results = []\n",
    "names = []\n",
    "for name, model in models:\n",
    "    kfold = KFold(n_splits=num_folds, random_state=seed, shuffle=True)\n",
    "    cv_results = cross_val_score(model, X_train, y_train, cv=kfold, scoring=scoring)\n",
    "    results.append(cv_results)\n",
    "    names.append(name)\n",
    "    msg = \"%s %f %f \" % (name, cv_results.mean(), cv_results.std())\n",
    "    print(msg)"
   ]
  },
  {
   "cell_type": "code",
   "execution_count": 12,
   "metadata": {},
   "outputs": [
    {
     "data": {
      "image/png": "[encoded data removed]",
      "text/plain": [
       "<Figure size 576x396 with 1 Axes>"
      ]
     },
     "metadata": {},
     "output_type": "display_data"
    }
   ],
   "source": [
    "# compare algorithms\n",
    "fig = plt.figure()\n",
    "fig.suptitle('Comparison of methods')\n",
    "ax = fig.add_subplot(111)\n",
    "plt.boxplot(results)\n",
    "ax.set_xticklabels(names)\n",
    "plt.show()"
   ]
  },
  {
   "cell_type": "markdown",
   "metadata": {},
   "source": [
    "Since the closer to zero the errors are the better, we can see the random forest regressor algorithm might be better suited to this problem. This is also intuitively true because of the jaggedness of the target variable.\n",
    "Now I would like to train the two models and look at the crude performance without any hyperparameter tuning."
   ]
  },
  {
   "cell_type": "code",
   "execution_count": 13,
   "metadata": {},
   "outputs": [
    {
     "data": {
      "image/png": "[encoded data removed]",
      "text/plain": [
       "<Figure size 576x396 with 1 Axes>"
      ]
     },
     "metadata": {},
     "output_type": "display_data"
    }
   ],
   "source": [
    "algs = []\n",
    "algs.append(('SVR', 'r', SVR))\n",
    "algs.append(('RFR', 'g', RandomForestRegressor))\n",
    "\n",
    "for label, c, alg in algs:\n",
    "    model = alg()\n",
    "    model.fit(X_train, y_train)\n",
    "    y_pred = model.predict(X_test)\n",
    "    (y_pred-y_test).hist(histtype='stepfilled', label=label, color=c, alpha=.6)\n",
    "    plt.legend()"
   ]
  },
  {
   "cell_type": "markdown",
   "metadata": {},
   "source": [
    "Here I plot the histograms of the difference between the predicted value and the ground truth value. The result is already pretty promising. One can see the with the random forest method peaking sharper around 0, it is the clear winner between the two algorithms."
   ]
  },
  {
   "cell_type": "markdown",
   "metadata": {},
   "source": [
    "### Discussions and Future Work\n",
    "- Utilize Natural Language Processing (NLP) to understand the reviews themselves and engineer more features out of the written reviews.\n",
    "- Perform a more complete model selection process by including more algorithms.\n",
    "- Hyperparameter optimization.\n",
    "- In this first look, we are forced to exclude data entries with too few votes because the target variable, the helpfulness rate, requires at least some votes to become meaningful. I am considering to treat the number of votes as a latent variable or do a multi-output regression to see if I can predict usefulness for reviews with insufficient votes.\n",
    "- Build models out of NLP and other classical algoriths and compare the predictions for insufficient-vote reviews.\n",
    "- Investigate contributions from individual features.\n",
    "- Compare results from different games and explore if common characteristics are shared between all games. Investigate the possibility of a universal model for all games."
   ]
  }
 ],
 "metadata": {
  "kernelspec": {
   "display_name": "Python 3",
   "language": "python",
   "name": "python3"
  },
  "language_info": {
   "codemirror_mode": {
    "name": "ipython",
    "version": 3
   },
   "file_extension": ".py",
   "mimetype": "text/x-python",
   "name": "python",
   "nbconvert_exporter": "python",
   "pygments_lexer": "ipython3",
   "version": "3.7.6"
  }
 },
 "nbformat": 4,
 "nbformat_minor": 4
}
